{
  "nbformat": 4,
  "nbformat_minor": 0,
  "metadata": {
    "colab": {
      "name": "ClusteringHw2.ipynb",
      "provenance": [],
      "collapsed_sections": [],
      "include_colab_link": true
    },
    "kernelspec": {
      "name": "python3",
      "display_name": "Python 3"
    }
  },
  "cells": [
    {
      "cell_type": "markdown",
      "metadata": {
        "id": "view-in-github",
        "colab_type": "text"
      },
      "source": [
        "<a href=\"https://colab.research.google.com/github/cr21/Unsupervised-Machine-Learning-Clustering/blob/main/K-meansClustering.ipynb\" target=\"_parent\"><img src=\"https://colab.research.google.com/assets/colab-badge.svg\" alt=\"Open In Colab\"/></a>"
      ]
    },
    {
      "cell_type": "code",
      "metadata": {
        "id": "JzEFbXZxazmg"
      },
      "source": [
        "# MSIST\n",
        "# NG\n",
        "import scipy\n",
        "import numpy as np\n",
        "import pandas as pd\n",
        "import matplotlib.pyplot as plt\n",
        "from sklearn.preprocessing import MinMaxScaler\n",
        "from sklearn.datasets import fetch_20newsgroups\n",
        "from sklearn.preprocessing import StandardScaler\n",
        "from sklearn.metrics.pairwise import euclidean_distances\n",
        "from sklearn.metrics.pairwise import paired_cosine_distances\n",
        "from sklearn.metrics.pairwise import paired_manhattan_distances\n",
        "from sklearn.metrics.pairwise import paired_euclidean_distances\n",
        "from sklearn.metrics.pairwise import  cosine_similarity\n",
        "from sklearn.metrics import pairwise_distances\n",
        "from sklearn.datasets import fetch_openml\n",
        "from scipy.sparse import csr_matrix\n",
        "from sklearn.feature_extraction.text import TfidfVectorizer\n",
        "from scipy import stats\n",
        "from sklearn.model_selection import train_test_split\n",
        "from sklearn.metrics.cluster import contingency_matrix\n",
        "import tensorflow as tf\n",
        "from sklearn.feature_extraction.text import TfidfVectorizer\n"
      ],
      "execution_count": 1,
      "outputs": []
    },
    {
      "cell_type": "code",
      "metadata": {
        "id": "NtJ_Ybd34_Ix"
      },
      "source": [
        ""
      ],
      "execution_count": 1,
      "outputs": []
    },
    {
      "cell_type": "code",
      "metadata": {
        "id": "m6LeVDjKZ0kq"
      },
      "source": [
        ""
      ],
      "execution_count": 1,
      "outputs": []
    },
    {
      "cell_type": "code",
      "metadata": {
        "id": "vJKPtstKCy-F"
      },
      "source": [
        "tf.keras.datasets.fashion_mnist?"
      ],
      "execution_count": 2,
      "outputs": []
    },
    {
      "cell_type": "code",
      "metadata": {
        "id": "9LUF-B-FHsZI"
      },
      "source": [
        ""
      ],
      "execution_count": 2,
      "outputs": []
    },
    {
      "cell_type": "code",
      "metadata": {
        "id": "xtGIqNcg6TnQ"
      },
      "source": [
        "def load_fashionData():\n",
        "  # Load Fashion Mnist dataset\n",
        "  fashion_mnist = tf.keras.datasets.fashion_mnist\n",
        "\n",
        "  (train_images, train_labels), (test_images, test_labels) = fashion_mnist.load_data()\n",
        "\n",
        "  # our train data is images (28*28) we need to flatten it\n",
        "  flatten_train_images = []\n",
        "  for image in train_images:\n",
        "    flatten_train_images.append(image.flatten())\n",
        "\n",
        "  # convert in numpy array\n",
        "  flatten_train_images = np.array(flatten_train_images)\n",
        "  # normalize images\n",
        "  flatten_train_images = flatten_train_images / 255\n",
        "\n",
        "\n",
        "  # our test data is images (28*28) we need to flatten it\n",
        "  flatten_test_images = []\n",
        "  for image in test_images:\n",
        "    flatten_test_images.append(image.flatten())\n",
        "\n",
        "  # convert in numpy array\n",
        "  flatten_test_images = np.array(flatten_test_images)\n",
        "  # normalize images\n",
        "  flatten_test_images = flatten_test_images / 255\n",
        "\n",
        "  # combine test and train data\n",
        "  fshn_mnist_data =  np.concatenate((flatten_train_images, flatten_test_images), axis = 0)\n",
        "  fshn_mnist_labels = np.concatenate((train_labels, test_labels), axis = 0)\n",
        "\n",
        "  return fshn_mnist_data, fshn_mnist_labels\n"
      ],
      "execution_count": 3,
      "outputs": []
    },
    {
      "cell_type": "code",
      "metadata": {
        "id": "PL4-gtkVCtX3"
      },
      "source": [
        "def loadNGData(cats = [], seed = 20) :\n",
        "  data = fetch_20newsgroups( remove=('headers','footers','quotes'), random_state= 20)\n",
        "# Load News group data using sklearn library dataset.\n",
        "  \n",
        "  if len(cats) == 0:\n",
        "\n",
        "    cats = ['talk.politics.guns',\n",
        "         'talk.politics.mideast',\n",
        "         ]\n",
        "  \n",
        "  dataset = fetch_20newsgroups(subset='all', remove=('headers','footers','quotes'), random_state= seed)\n",
        "  data = dataset.data\n",
        "  labels = dataset.target\n",
        "  # vectorize the text data\n",
        "  vectorizer = TfidfVectorizer(stop_words='english',min_df = 5)\n",
        "  # vectorize train data\n",
        "  ngVectorData = vectorizer.fit_transform(data)\n",
        "  ngVectorDataDense = ngVectorData.toarray()\n",
        "\n",
        "  return ngVectorDataDense, labels\n",
        "\n",
        "\n",
        "\n",
        "\n",
        "\n",
        "\n",
        "\n"
      ],
      "execution_count": 4,
      "outputs": []
    },
    {
      "cell_type": "code",
      "metadata": {
        "id": "6z50lHgw2Wph",
        "colab": {
          "base_uri": "https://localhost:8080/"
        },
        "outputId": "9a81345c-fb3c-4b15-b8a5-d3194a464076"
      },
      "source": [
        "ngData, ngLabels = loadNGData([], 15)\n"
      ],
      "execution_count": 5,
      "outputs": [
        {
          "output_type": "stream",
          "text": [
            "Downloading 20news dataset. This may take a few minutes.\n",
            "Downloading dataset from https://ndownloader.figshare.com/files/5975967 (14 MB)\n"
          ],
          "name": "stderr"
        }
      ]
    },
    {
      "cell_type": "code",
      "metadata": {
        "id": "mnI4n7JE17Sc"
      },
      "source": [
        "# subset\n",
        "ngData2000 = ngData[:2000]\n",
        "ngLabels2000 = ngLabels[:2000]\n"
      ],
      "execution_count": 6,
      "outputs": []
    },
    {
      "cell_type": "code",
      "metadata": {
        "id": "xuE5DSmc14ip"
      },
      "source": [
        "def loadMnistDigitData():\n",
        "  X, y = fetch_openml('mnist_784', version=1, return_X_y=True)  \n",
        "  # Normalize the data\n",
        "  X = X/255\n",
        "  return X, y"
      ],
      "execution_count": 7,
      "outputs": []
    },
    {
      "cell_type": "code",
      "metadata": {
        "id": "Z4meuVBulsdG"
      },
      "source": [
        "X,y  = loadMnistDigitData()\n",
        "\n",
        "\n"
      ],
      "execution_count": 8,
      "outputs": []
    },
    {
      "cell_type": "code",
      "metadata": {
        "id": "CVkUumgSsDdo"
      },
      "source": [
        "# Function: getEuclidianDistance  \n",
        "    # Get euclidean pairwise distance between dataset \n",
        "\n",
        "\"\"\" \n",
        "  Param : \n",
        "        X : Data point in data set \n",
        "        Y : centroid in dataset\n",
        "        \n",
        "  return :\n",
        "        pairwise distance between X and Y\n",
        "\"\"\"\n",
        "# -------------\n",
        "# Returns Get euclidean pairwise distance between dataset\n",
        "def getEuclidianDistance(X, centroid):\n",
        "  \n",
        "  dist = euclidean_distances( X, centroid)\n",
        "  \n",
        "  return dist\n",
        "\n",
        "\n",
        "# Function: getCosineDistance  \n",
        "    # Get cosine pairwise distance between dataset \n",
        "\n",
        "\"\"\" \n",
        "  Param : \n",
        "        X : Data point in data set \n",
        "        centroid : centroid in dataset\n",
        "        \n",
        "  return :\n",
        "        pairwise cosine distance between X and centroid\n",
        "\"\"\"\n",
        "# -------------\n",
        "# Returns Get  pairwise cosine distance between dataset\n",
        "def getCosineDistance(X, centroid):\n",
        "  return cosine_similarity ( X, centroid )\n"
      ],
      "execution_count": 9,
      "outputs": []
    },
    {
      "cell_type": "code",
      "metadata": {
        "id": "Uy3z6482tNRt"
      },
      "source": [
        ""
      ],
      "execution_count": 9,
      "outputs": []
    },
    {
      "cell_type": "code",
      "metadata": {
        "id": "ZysXEUvGrNdP"
      },
      "source": [
        "# Function: GetMembership  This is M step in Kmeans Algorithm\n",
        "\n",
        "\"\"\" \n",
        "  Param : \n",
        "        features :  feature value \n",
        "        labels :    true labels\n",
        "        centroids : centroids\n",
        "        metric :  metric value to use [ Euclidean, Cosine]\n",
        "  return :\n",
        "        new membership based on centroids and metric\n",
        "\"\"\"\n",
        "# https://stanford.edu/~cpiech/cs221/handouts/kmeans.html\n",
        "# -------------\n",
        "# Returns a True Membership for each piece of data in the dataset based on centroids \n",
        "def getMembership(features, trueLabel, centroids, metric = 'euclidean'):\n",
        "\n",
        "    # For each element in the dataset, chose the closest centroid. \n",
        "    # Make that centroid the element's label.\n",
        "    pairedDist = None\n",
        "    predLabel = None\n",
        "    if metric == 'euclidean':\n",
        "      pairedDist = getEuclidianDistance(features, centroids)\n",
        "      \n",
        "      predictIndex = np.argmin(pairedDist,axis=1)\n",
        "      # print(\"predictIndex\",predictIndex)\n",
        "      # predLabel  = trueLabel[predictIndex]\n",
        "    elif metric == 'cosine':\n",
        "      #print('cosine Distance')\n",
        "      pairedDist = getCosineDistance(features, centroids)\n",
        "      predictIndex = np.argmax(pairedDist, axis=1)\n",
        "      # predLabel  = trueLabel[predictIndex]\n",
        "    # print(predictIndex)\n",
        "    return predictIndex\n",
        "\n",
        "    \n",
        "\n",
        "\n",
        "\n",
        "# Function: Get Centroids\n",
        "\"\"\"\n",
        "  Param : \n",
        "    dataset     : dataset\n",
        "    trueLabels  : trueLabels\n",
        "    membership  : membership\n",
        "    k           : number of centroid\n",
        "\n",
        "  Return :\n",
        "    new centroid\n",
        "\n",
        "\"\"\"\n",
        "# -------------\n",
        "# Returns k random centroids, each of dimension n.\n",
        "def getCentroids(dataSet, trueLabels, membership, centroids, k) :\n",
        "#     # Each centroid is the geometric mean of the points that\n",
        "#     # have that centroid's label. Important: If a centroid is empty (no points have\n",
        "#     # that centroid's label) you should randomly re-initialize it.\n",
        "    newCentroids = np.zeros_like(centroids)\n",
        "    #print(\"centroids length \", len(centroids))\n",
        "    for j in range(len(centroids)) :\n",
        "      #  get all the element with memebership equals to j\n",
        "      C_j = dataSet[ membership == j]\n",
        "\n",
        "      # if we return valid clusters members take mean\n",
        "      if len(C_j) != 0:\n",
        "        newCentroids[j] = np.mean(C_j, axis=0 )\n",
        "    return newCentroids\n"
      ],
      "execution_count": 10,
      "outputs": []
    },
    {
      "cell_type": "code",
      "metadata": {
        "id": "FwTxP5ytbGlB"
      },
      "source": [
        "from tqdm import tqdm"
      ],
      "execution_count": 11,
      "outputs": []
    },
    {
      "cell_type": "code",
      "metadata": {
        "id": "HdTgoD8mnJjn"
      },
      "source": [
        "\n",
        "# -------------\n",
        "# K-Means is an algorithm that takes in a dataset and a constant\n",
        "# k and returns k centroids \n",
        "\n",
        "\"\"\"\n",
        "  Param : \n",
        "        dataset : dataset to cluster on\n",
        "        k       : Number of cluster to look into\n",
        "  return :\n",
        "        k cluster \n",
        "\"\"\"\n",
        "MAX_ITERATIONS = 1000\n",
        "def kmeans(features, labels, k, metric = 'euclidean'):\n",
        "    \n",
        "    # Initialize centroids randomly\n",
        "    numFeatures = len(features)\n",
        "    # centroids = features[np.random.choice(features.shape[0], k, replace=False)]\n",
        "    centroids = features[np.random.choice(np.arange(len(features)), k, replace=False)]\n",
        "    print(centroids.shape)\n",
        "    iterations = 0\n",
        "    oldCentroids = None\n",
        "    \n",
        "    # Run the main k-means algorithm\n",
        "    while   (iterations <  MAX_ITERATIONS ) :\n",
        "        # print(f\"iteration : {iterations}\")\n",
        "        # update old centroids \n",
        "        oldCentroids = np.copy(centroids)\n",
        "        # increase the iterations count\n",
        "        iterations += 1\n",
        "        \n",
        "        # Assign labels to each datapoint based on centroids\n",
        "        membership = getMembership(features,labels,  centroids, metric)\n",
        "        \n",
        "        # Assign centroids based on datapoint labels\n",
        "        centroids = getCentroids(features, labels, membership,  centroids, k)\n",
        "\n",
        "        # check for convergence\n",
        "        if np.array_equal(centroids, oldCentroids) :\n",
        "          return membership, centroids\n",
        "        \n",
        "    # We can get the labels too by calling getLabels(dataSet, centroids)\n",
        "    return membership,centroids\n",
        "\n"
      ],
      "execution_count": 12,
      "outputs": []
    },
    {
      "cell_type": "code",
      "metadata": {
        "id": "QnFZh3IkL9qJ"
      },
      "source": [
        ""
      ],
      "execution_count": 12,
      "outputs": []
    },
    {
      "cell_type": "code",
      "metadata": {
        "id": "fz4nSfxOuncw"
      },
      "source": [
        "# https://towardsdatascience.com/clustering-for-data-nerds-ebbfb7ed4090\n",
        "\"\"\"\n",
        "  Param : \n",
        "        membership : data point membership of cluster\n",
        "        labels       :  true labels\n",
        "  return :\n",
        "       avg gini index of clustering \n",
        "\"\"\"\n",
        "def getGini(membership , labels) :\n",
        "  CM = contingency_matrix(labels, membership)\n",
        "  giniIndex = 0\n",
        "\n",
        "  ginidensity = 0\n",
        "\n",
        "  for _m in CM :\n",
        "    total_dataPoint = np.sum(_m)\n",
        "    # print(\"total_datapoint\", total_dataPoint)\n",
        "    ginidensity += total_dataPoint\n",
        "    counter = 0\n",
        "    for count in  _m :\n",
        "      counter += pow(count/ total_dataPoint, 2)\n",
        "    giniIndex += (1 - counter) * total_dataPoint\n",
        "  gini_coeff = giniIndex/ ginidensity\n",
        "\n",
        "  return gini_coeff\n",
        "  "
      ],
      "execution_count": 45,
      "outputs": []
    },
    {
      "cell_type": "code",
      "metadata": {
        "id": "SBwBeDJJw0Ve"
      },
      "source": [
        "#https://stats.stackexchange.com/questions/95731/how-to-calculate-purity\n",
        "\n",
        "#    |  T1 |  T2  |  T3\n",
        "# ---------------------\n",
        "# C1 |  0  |  53  |  10\n",
        "# C2 |  0  |  1   |  60\n",
        "# C3 |  0  |  16  |  0\n",
        " # impurity  =  53 +  60 + 16 ( 53+10+1+16)\n",
        "\n",
        "\"\"\"\n",
        "  Param : \n",
        "        membership : data point membership of cluster\n",
        "        labels       :  true labels\n",
        "  return :\n",
        "        avg impurity of clusters . This is similar to entropy .\n",
        "\"\"\"\n",
        "def getImpurity(membership, labels):\n",
        "  CM = contingency_matrix(labels, membership)\n",
        "  truthCount = np.sum(np.amax(CM,axis=1))\n",
        "  \n",
        "  # truthCount = np.sum(np.amax(CM), axis = 0 )\n",
        "  totalCount = np.sum(CM)\n",
        "\n",
        "  purity = truthCount / totalCount \n",
        "\n",
        "  return purity\n",
        "\n",
        "  "
      ],
      "execution_count": 46,
      "outputs": []
    },
    {
      "cell_type": "code",
      "metadata": {
        "id": "lmbzuQWq4RoD"
      },
      "source": [
        "# Run on MNIST dataset\n",
        "# mbr, cntrid = kmeans(X, y, 10)\n",
        "def runClustering(dataset, labels, k, metric = 'euclidean'):\n",
        "  membership, centroids = kmeans(dataset, labels, k, metric)\n",
        "  impurity = getImpurity(membership, labels)\n",
        "  gini = getGini(membership, labels)\n",
        "\n",
        "  return impurity, gini"
      ],
      "execution_count": 15,
      "outputs": []
    },
    {
      "cell_type": "code",
      "metadata": {
        "id": "KrCYEt-PKW12"
      },
      "source": [
        ""
      ],
      "execution_count": 15,
      "outputs": []
    },
    {
      "cell_type": "code",
      "metadata": {
        "colab": {
          "base_uri": "https://localhost:8080/"
        },
        "id": "DkZ00Smb1K5J",
        "outputId": "7b61afe3-2d8b-47cd-ea55-21b3618f75d3"
      },
      "source": [
        "# Mnist Dataset K = 10 \n",
        "\n",
        "impurity, gini = runClustering(X, y,10)\n",
        "print(f\" K value : {10} gini : {gini} ,  impurity : {impurity}\")\n",
        "\n",
        "# Mnist Dataset K = 5\n",
        "\n",
        "impurity, gini = runClustering(X, y,5)\n",
        "print(f\" K value : {5} gini : {gini} ,  impurity : {impurity}\")\n",
        "\n",
        "# Mnist Dataset K = 15 \n",
        "\n",
        "impurity, gini = runClustering(X, y,15)\n",
        "print(f\" K value : {15} gini : {gini} ,  impurity : {impurity}\")\n"
      ],
      "execution_count": 42,
      "outputs": [
        {
          "output_type": "stream",
          "text": [
            "(10, 784)\n",
            " K value : 10 gini : 0.5549444980020286 ,  impurity : 0.5868285714285715\n",
            "(5, 784)\n",
            " K value : 5 gini : 0.3296773664567851 ,  impurity : 0.7885571428571428\n",
            "(15, 784)\n",
            " K value : 15 gini : 0.6314123468218275 ,  impurity : 0.48987142857142857\n"
          ],
          "name": "stdout"
        }
      ]
    },
    {
      "cell_type": "code",
      "metadata": {
        "id": "o8VvAguB0GrS"
      },
      "source": [
        ""
      ],
      "execution_count": null,
      "outputs": []
    },
    {
      "cell_type": "code",
      "metadata": {
        "colab": {
          "base_uri": "https://localhost:8080/"
        },
        "id": "9ktfiy3cH7M1",
        "outputId": "19ab5768-5616-4e4a-e66d-36b9e5e7c5a9"
      },
      "source": [
        "# Run Kmeans on Fashion MNIST data\n",
        "fashionData, fashionLabel = load_fashionData()\n",
        "\n",
        "# Mnist Dataset K = 10 \n",
        "\n",
        "impurity, gini = runClustering(fashionData, fashionLabel,10)\n",
        "print(f\"Fashion DataSet K value : {10} gini : {gini} ,  impurity : {impurity}\")\n",
        "\n",
        "# Mnist Dataset K = 5\n",
        "\n",
        "impurity, gini = runClustering(fashionData, fashionLabel,15)\n",
        "print(f\"Fashion DataSet K value : {5} gini : {gini} ,  impurity : {impurity}\")\n",
        "\n",
        "# Mnist Dataset K = 15 \n",
        "\n",
        "impurity, gini = runClustering(fashionData, fashionLabel,15)\n",
        "print(f\"Fashion DataSet K value : {15} gini : {gini} ,  impurity : {impurity}\")\n"
      ],
      "execution_count": 43,
      "outputs": [
        {
          "output_type": "stream",
          "text": [
            "(10, 784)\n",
            "Fashion DataSet K value : 10 gini : 0.5669672204081633 ,  impurity : 0.5787428571428571\n",
            "(15, 784)\n",
            "Fashion DataSet K value : 5 gini : 0.627551575510204 ,  impurity : 0.4994142857142857\n",
            "(15, 784)\n",
            "Fashion DataSet K value : 15 gini : 0.6622499061224492 ,  impurity : 0.4567\n"
          ],
          "name": "stdout"
        }
      ]
    },
    {
      "cell_type": "code",
      "metadata": {
        "colab": {
          "base_uri": "https://localhost:8080/"
        },
        "id": "0sY1s3cda1Bi",
        "outputId": "3362abb0-4250-457e-a27e-1cf2bb0c6bb3"
      },
      "source": [
        "# Run Kmeans on NG Data data\n",
        "# fashionData, fashionLabel = load_fashionData()\n",
        "\n",
        "\n",
        "# NG  Dataset K = 20 \n",
        "impurity, gini = runClustering(ngData2000, ngLabels2000, 20, 'cosine')\n",
        "print(f\"News Group DataSet K value : {20} gini : {gini} ,  impurity : {impurity}\")\n",
        "\n",
        "# NG  Dataset K = 5\n",
        "impurity, gini = runClustering(ngData2000, ngLabels2000, 5, 'cosine')\n",
        "print(f\"News Group K value : {5} gini : {gini} ,  impurity : {impurity}\")\n",
        "\n",
        "# NG  Dataset K = 15 \n",
        "\n",
        "impurity, gini = runClustering(ngData2000, ngLabels2000, 15, 'cosine')\n",
        "print(f\"News Group K value : {15} gini : {gini} ,  impurity : {impurity}\")\n",
        "\n",
        "\n",
        "\n",
        "# impurity, gini = runClustering(fashionData, fashionLabel,15)\n",
        "# print(f\"Fashion DataSet K value : {5} gini : {gini} ,  impurity : {impurity}\")\n",
        "\n",
        "# # Mnist Dataset K = 15 \n",
        "\n",
        "# impurity, gini = runClustering(fashionData, fashionLabel,15)\n",
        "# print(f\"Fashion DataSet K value : {15} gini : {gini} ,  impurity : {impurity}\")\n"
      ],
      "execution_count": 44,
      "outputs": [
        {
          "output_type": "stream",
          "text": [
            "(20, 24164)\n",
            "Fashion DataSet K value : 20 gini : 0.8404069449891879 ,  impurity : 0.3075\n",
            "(5, 24164)\n",
            "Fashion DataSet K value : 5 gini : 0.5222992597197814 ,  impurity : 0.634\n",
            "(15, 24164)\n",
            "Fashion DataSet K value : 15 gini : 0.7680554228590378 ,  impurity : 0.377\n"
          ],
          "name": "stdout"
        }
      ]
    },
    {
      "cell_type": "code",
      "metadata": {
        "id": "AE3oKlDRzrem"
      },
      "source": [
        ""
      ],
      "execution_count": null,
      "outputs": []
    },
    {
      "cell_type": "markdown",
      "metadata": {
        "id": "-I4FOe6WMpTo"
      },
      "source": [
        "1) \n",
        "**E step is achieve minimization given Centroids **\n",
        "\n",
        "<font color='red'> **proof by contradiction** </font>\n",
        "\n",
        "\n",
        "suppose After E steps that gives the memebership doest not acheive minimum objective given the centroids.\n",
        "suppose  there is better membership   for $\\pi_ik$ and it is moved from cluster k to k', thus the value of distance between $\\pi_ik$ to k will increase, because k'  is not the minimum.\n",
        "\n",
        "\n",
        "this will not update the objective function since $\\pi_ik'$ is greater than $\\pi_ik$. This is contradiction."
      ]
    },
    {
      "cell_type": "code",
      "metadata": {
        "id": "XtY4kqiJPWNQ"
      },
      "source": [
        ""
      ],
      "execution_count": null,
      "outputs": []
    },
    {
      "cell_type": "markdown",
      "metadata": {
        "id": "jh87kbksPojn"
      },
      "source": [
        "2) $\\mu_k$ represent the centroids for cluster k, given the current memebership, to find the new centroids based on current membership we used below formula\n",
        "\n",
        "$\\mu_k = \\Sigma( \\pi_ik) *  xi ) /\n",
        "(\\Sigma (\\pi_ik))$\n",
        "\n",
        "we can prove this by using 1st order optimization problem and find the minimum value for $\\mu_k$ for objective function.\n",
        "\n",
        "<!-- [link text](https://drive.google.com/file/d/15WZcJLD3Y0yfAg6l-OuTeVbXTd-gaF62/view?usp=sharing) -->\n",
        "\n",
        "![WhatsApp Image 2021-02-15 at 14.58.06 (1).jpeg](data:image/jpeg;base64,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)"
      ]
    },
    {
      "cell_type": "code",
      "metadata": {
        "id": "j8Wt3zJbSPMy"
      },
      "source": [
        ""
      ],
      "execution_count": null,
      "outputs": []
    },
    {
      "cell_type": "markdown",
      "metadata": {
        "id": "DzEsC6tBSeyr"
      },
      "source": [
        "**) Explain why KMeans has to stop (converge), but not necessarily to the global minimum objective value.**\n",
        "\n",
        "Kmeans Global minimization function is non convex function so it has one global minima and multiple local minima. \n",
        "\n",
        "We can achive global minimum objective value in two cases \n",
        "\n",
        "\n",
        "1) If we have exhausted all the possibe combinations of the function space we can achieve global minimum. This is practically not possible because of exponential number of combinations.\n",
        "\n",
        "2) If we somehow intialize our centroid in the location in vicinity of true global minima we might get global minima.This practically possible if we try enough time with proper random initialization we could do much better.\n",
        "\n",
        "3) Theoritically it is possible to get minimum but practically it is impossible.\n",
        "\n"
      ]
    },
    {
      "cell_type": "code",
      "metadata": {
        "colab": {
          "base_uri": "https://localhost:8080/"
        },
        "id": "w7hT28LLRmah",
        "outputId": "7c5a9731-0829-423d-f934-aafb5ef73a80"
      },
      "source": [
        "from google.colab import drive\n",
        "drive.mount('/content/drive')\n"
      ],
      "execution_count": 48,
      "outputs": [
        {
          "output_type": "stream",
          "text": [
            "Mounted at /content/drive\n"
          ],
          "name": "stdout"
        }
      ]
    },
    {
      "cell_type": "code",
      "metadata": {
        "colab": {
          "base_uri": "https://localhost:8080/"
        },
        "id": "R9ZJdJKkRwy7",
        "outputId": "d3453ba7-2e9b-4aae-9b18-bf4456f15997"
      },
      "source": [
        "cd drive/MyDrive/Dataset/\n"
      ],
      "execution_count": 49,
      "outputs": [
        {
          "output_type": "stream",
          "text": [
            "/content/drive/MyDrive/Dataset\n"
          ],
          "name": "stdout"
        }
      ]
    },
    {
      "cell_type": "code",
      "metadata": {
        "colab": {
          "base_uri": "https://localhost:8080/"
        },
        "id": "xdKqT96DR51e",
        "outputId": "502667b2-e7e8-4c3d-fcd3-6b4e21d79ffc"
      },
      "source": [
        "ls"
      ],
      "execution_count": 50,
      "outputs": [
        {
          "output_type": "stream",
          "text": [
            "'Convolution Layer.ipynb'           mnist.log       'MSR-LA - 3467.docx'\n",
            "'Copy of Convolution Layer.ipynb'   model2.log       \u001b[0m\u001b[01;34mPetImages\u001b[0m/\n",
            " dogscats.npy                       model.log        proof_1b.jpeg\n",
            " dogscats.txt                       model.log1      'readme[1].txt'\n",
            " kagglecatsanddogs_3367a.zip        model.log11      training_data.npy\n",
            " \u001b[01;34mMNIST\u001b[0m/                             model.log.gdoc\n"
          ],
          "name": "stdout"
        }
      ]
    },
    {
      "cell_type": "code",
      "metadata": {
        "id": "EYfLIC-jR6M5"
      },
      "source": [
        ""
      ],
      "execution_count": null,
      "outputs": []
    }
  ]
}